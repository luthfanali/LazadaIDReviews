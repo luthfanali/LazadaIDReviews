{
 "cells": [
  {
   "cell_type": "code",
   "execution_count": 16,
   "metadata": {},
   "outputs": [],
   "source": [
    "import os"
   ]
  },
  {
   "cell_type": "code",
   "execution_count": 15,
   "metadata": {},
   "outputs": [
    {
     "data": {
      "text/plain": [
       "'/home/ltx/mlops_belajar_step_by_step/03_LazadaIDReviews/LazadaIDReviews'"
      ]
     },
     "execution_count": 15,
     "metadata": {},
     "output_type": "execute_result"
    }
   ],
   "source": [
    "%pwd"
   ]
  },
  {
   "cell_type": "code",
   "execution_count": 5,
   "metadata": {},
   "outputs": [],
   "source": [
    "# Change to the main directory\n",
    "# So, it's executed from main directory\n",
    "os.chdir(\"../\")"
   ]
  },
  {
   "cell_type": "code",
   "execution_count": 17,
   "metadata": {},
   "outputs": [
    {
     "data": {
      "text/plain": [
       "'/home/ltx/mlops_belajar_step_by_step/03_LazadaIDReviews/LazadaIDReviews'"
      ]
     },
     "execution_count": 17,
     "metadata": {},
     "output_type": "execute_result"
    }
   ],
   "source": [
    "%pwd"
   ]
  },
  {
   "cell_type": "code",
   "execution_count": 18,
   "metadata": {},
   "outputs": [],
   "source": [
    "with open('.env') as f:\n",
    "    os.environ.update(\n",
    "        line.strip().split('=') for line in f\n",
    ")"
   ]
  },
  {
   "cell_type": "markdown",
   "metadata": {},
   "source": [
    "### Training Config\n",
    "\n",
    "This code will be apply in `src/LadazaIDReview/entity/config_entity.py`."
   ]
  },
  {
   "cell_type": "code",
   "execution_count": 19,
   "metadata": {},
   "outputs": [],
   "source": [
    "from dataclasses import dataclass\n",
    "from pathlib import Path\n",
    "\n",
    "@dataclass(frozen=True)\n",
    "class TrainingConfig:\n",
    "    root_dir: Path\n",
    "    input_train_path: Path\n",
    "    output_train_path: Path\n",
    "    vectorized_train_path: Path\n",
    "    model_path: Path\n",
    "    params_max_iter: int\n",
    "    params_solver: str\n",
    "    params_n_jobs: int"
   ]
  },
  {
   "cell_type": "markdown",
   "metadata": {},
   "source": [
    "### Training Config Manager\n",
    "\n",
    "This code will be apply in `src/LazadaIDReview/config/configurations.py`."
   ]
  },
  {
   "cell_type": "code",
   "execution_count": 20,
   "metadata": {},
   "outputs": [],
   "source": [
    "from LazadaIDReviews.constants import CONFIG_FILE_PATH, PARAMS_FILE_PATH\n",
    "from LazadaIDReviews.utils.common import read_yaml, create_directories"
   ]
  },
  {
   "cell_type": "code",
   "execution_count": 21,
   "metadata": {},
   "outputs": [],
   "source": [
    "class ConfigurationManager:\n",
    "    def __init__(self, \n",
    "                 config_filepath = CONFIG_FILE_PATH,\n",
    "                 params_filepath = PARAMS_FILE_PATH):\n",
    "\n",
    "        self.config = read_yaml(config_filepath)\n",
    "        self.params = read_yaml(params_filepath)\n",
    "\n",
    "        create_directories([self.config.artifacts_root])\n",
    "    \n",
    "    def get_training_config(self) -> TrainingConfig:\n",
    "        \"\"\"read training config file and store as config entity\n",
    "        then apply the dataclasses\n",
    "        \n",
    "        Returns:\n",
    "            config: TrainingConfig type\n",
    "        \"\"\"\n",
    "        data_dump_config = self.config.dump_data\n",
    "        vectorize_config = self.config.vectorize_data\n",
    "        train_config = self.config.train_model\n",
    "        train_params = self.params\n",
    "\n",
    "        create_directories([train_config.root_dir])\n",
    "\n",
    "        config = TrainingConfig(\n",
    "            root_dir=train_config.root_dir,\n",
    "            input_train_path=Path(data_dump_config.input_train_path),\n",
    "            output_train_path=Path(data_dump_config.output_train_path),\n",
    "            vectorized_train_path=Path(vectorize_config.vectorized_train_path),\n",
    "            model_path=Path(train_config.model_path),\n",
    "            params_max_iter=train_params.MAX_ITER,\n",
    "            params_solver=train_params.SOLVER,\n",
    "            params_n_jobs=train_params.N_JOBS\n",
    "        )\n",
    "\n",
    "        return config"
   ]
  },
  {
   "cell_type": "markdown",
   "metadata": {},
   "source": [
    "### Perform Training\n",
    "\n",
    "This code in `src/LazadaIDReview/components/training.py`.\n",
    "\n",
    "For this example, for initial run we could use logistic regression, later on we could try:\n",
    "+ another model\n",
    "+ another data enrichment technique\n",
    "+ another model tweaking"
   ]
  },
  {
   "cell_type": "code",
   "execution_count": 22,
   "metadata": {},
   "outputs": [],
   "source": [
    "import joblib\n",
    "\n",
    "from sklearn.linear_model import LogisticRegression\n",
    "from sklearn.metrics import classification_report\n",
    "\n",
    "from LazadaIDReviews import logger\n",
    "\n",
    "class Training:\n",
    "    def __init__(self, config: TrainingConfig):\n",
    "        self.config = config\n",
    "\n",
    "    def logistic_regression(self) -> None:\n",
    "        \"\"\"train the data with linear regression model and dump the data\n",
    "        \"\"\"\n",
    "        logger.info(f\"Load vectorized data train from {self.config.vectorized_train_path}.\")\n",
    "        X_train_vec = joblib.load(self.config.vectorized_train_path)\n",
    "        \n",
    "        logger.info(f\"Load data train output from {self.config.output_train_path}.\")\n",
    "        y_train = joblib.load(self.config.output_train_path)\n",
    "        \n",
    "        logger.info(f\"Train the model.\")\n",
    "        model = LogisticRegression(\n",
    "            solver=self.config.params_solver,\n",
    "            max_iter=self.config.params_max_iter,\n",
    "            n_jobs=self.config.params_n_jobs\n",
    "        )\n",
    "        \n",
    "        model.fit(X_train_vec, y_train)\n",
    "        \n",
    "        logger.info(f\"Dump the model.\")\n",
    "        joblib.dump(model, self.config.model_path)"
   ]
  },
  {
   "cell_type": "markdown",
   "metadata": {},
   "source": [
    "### Traning the Model\n",
    "\n",
    "This code in `src/LazadaIDReview/pipeline/step_03_training.py`."
   ]
  },
  {
   "cell_type": "code",
   "execution_count": 23,
   "metadata": {},
   "outputs": [
    {
     "name": "stdout",
     "output_type": "stream",
     "text": [
      "[2024-07-11 11:29:00,640: INFO: common: yaml file: config/config.yaml loaded successfully]\n",
      "[2024-07-11 11:29:00,655: INFO: common: yaml file: metrics/params.yaml loaded successfully]\n",
      "[2024-07-11 11:29:00,658: INFO: common: created directory at: artifacts]\n",
      "[2024-07-11 11:29:00,662: INFO: common: created directory at: artifacts/models]\n",
      "[2024-07-11 11:29:00,667: INFO: 994031705: Load vectorized data train from artifacts/preprocessing/X_train_vec.pkl.]\n",
      "[2024-07-11 11:29:00,698: INFO: 994031705: Load data train output from artifacts/data/y_train.pkl.]\n",
      "[2024-07-11 11:29:00,726: INFO: 994031705: Train the model.]\n",
      "[2024-07-11 11:29:05,384: INFO: 994031705: Dump the model.]\n"
     ]
    },
    {
     "name": "stderr",
     "output_type": "stream",
     "text": [
      "/home/ltx/mlops_belajar_step_by_step/03_LazadaIDReviews/LazadaIDReviews/.lazada-id-reviewss-venv/lib/python3.12/site-packages/sklearn/linear_model/_logistic.py:469: ConvergenceWarning: lbfgs failed to converge (status=1):\n",
      "STOP: TOTAL NO. of ITERATIONS REACHED LIMIT.\n",
      "\n",
      "Increase the number of iterations (max_iter) or scale the data as shown in:\n",
      "    https://scikit-learn.org/stable/modules/preprocessing.html\n",
      "Please also refer to the documentation for alternative solver options:\n",
      "    https://scikit-learn.org/stable/modules/linear_model.html#logistic-regression\n",
      "  n_iter_i = _check_optimize_result(\n"
     ]
    }
   ],
   "source": [
    "try:\n",
    "    config = ConfigurationManager()\n",
    "    training_config = config.get_training_config()\n",
    "    training = Training(config=training_config)\n",
    "    training.logistic_regression()\n",
    "except Exception as e:\n",
    "    logger.error(e)\n",
    "    raise e"
   ]
  },
  {
   "cell_type": "markdown",
   "metadata": {},
   "source": [
    "**Debug**: Predict by showing the data training prediction result."
   ]
  },
  {
   "cell_type": "code",
   "execution_count": 24,
   "metadata": {},
   "outputs": [
    {
     "data": {
      "text/plain": [
       "0        4\n",
       "1        4\n",
       "2        1\n",
       "3        1\n",
       "4        5\n",
       "        ..\n",
       "82915    5\n",
       "82916    4\n",
       "82917    4\n",
       "82918    4\n",
       "82919    4\n",
       "Length: 82920, dtype: int64"
      ]
     },
     "execution_count": 24,
     "metadata": {},
     "output_type": "execute_result"
    }
   ],
   "source": [
    "import pandas as pd\n",
    "\n",
    "X_train = joblib.load(training_config.input_train_path)\n",
    "X_train_vec = joblib.load(training_config.vectorized_train_path)\n",
    "y_train = joblib.load(training_config.output_train_path)\n",
    "model = joblib.load(training_config.model_path)\n",
    "\n",
    "y_pred = pd.Series(model.predict(X_train_vec), index = X_train.index)\n",
    "y_pred"
   ]
  },
  {
   "cell_type": "code",
   "execution_count": 25,
   "metadata": {},
   "outputs": [
    {
     "name": "stdout",
     "output_type": "stream",
     "text": [
      "              precision    recall  f1-score   support\n",
      "\n",
      "           1       0.96      0.98      0.97     16584\n",
      "           2       0.97      0.98      0.98     16584\n",
      "           3       0.93      0.91      0.92     16584\n",
      "           4       0.82      0.81      0.82     16584\n",
      "           5       0.78      0.78      0.78     16584\n",
      "\n",
      "    accuracy                           0.89     82920\n",
      "   macro avg       0.89      0.89      0.89     82920\n",
      "weighted avg       0.89      0.89      0.89     82920\n",
      "\n"
     ]
    }
   ],
   "source": [
    "print(f\"{classification_report(y_train, y_pred)}\")"
   ]
  },
  {
   "cell_type": "code",
   "execution_count": null,
   "metadata": {},
   "outputs": [],
   "source": []
  },
  {
   "cell_type": "code",
   "execution_count": null,
   "metadata": {},
   "outputs": [],
   "source": []
  }
 ],
 "metadata": {
  "kernelspec": {
   "display_name": ".venv_lzd",
   "language": "python",
   "name": "python3"
  },
  "language_info": {
   "codemirror_mode": {
    "name": "ipython",
    "version": 3
   },
   "file_extension": ".py",
   "mimetype": "text/x-python",
   "name": "python",
   "nbconvert_exporter": "python",
   "pygments_lexer": "ipython3",
   "version": "3.12.4"
  }
 },
 "nbformat": 4,
 "nbformat_minor": 2
}
